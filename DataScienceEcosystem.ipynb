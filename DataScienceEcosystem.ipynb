{
 "cells": [
  {
   "cell_type": "markdown",
   "id": "347bf59d-fce0-4377-9539-5b3317c28660",
   "metadata": {},
   "source": [
    "# Data Science Tools and Ecosystem"
   ]
  },
  {
   "cell_type": "markdown",
   "id": "3a54cb1f-0051-4cc4-99e4-a6c727169144",
   "metadata": {},
   "source": [
    "In this notebook, Data Science Tools and Ecosystem are summarized."
   ]
  },
  {
   "cell_type": "markdown",
   "id": "ac7b8c57-4a00-4062-987d-7bed70230673",
   "metadata": {},
   "source": [
    "Some of the popular languages that Data Scientists use are:\n",
    "1. Python\n",
    "2. C++\n",
    "3. R\n",
    "4. SQL"
   ]
  },
  {
   "cell_type": "markdown",
   "id": "e1acdb3c-8b28-4c98-9c26-d879eef68de2",
   "metadata": {},
   "source": [
    "Some of the commonly used libraries used by Data Scientists include:\n",
    "1. Pandas\n",
    "2. NumPy\n",
    "3. Scikit-learn\n",
    "4. TensorFlow\n",
    "5. Keras\n",
    "6. PyTorch"
   ]
  },
  {
   "cell_type": "markdown",
   "id": "0e3fa023-1f71-4388-a370-039e5d49334e",
   "metadata": {},
   "source": [
    "| Data Science Tools |\n",
    "| ------------------ |\n",
    "| Jupyter Notebooks  |\n",
    "| Visual Studio Code |\n",
    "| R Studio           |"
   ]
  },
  {
   "cell_type": "markdown",
   "id": "1c279390-8d3d-407e-ba7e-6cda51c614c0",
   "metadata": {},
   "source": [
    "### Below are a few examples of evaluating arithmetic expressions in Python."
   ]
  },
  {
   "cell_type": "markdown",
   "id": "d55b12d8-8da4-42c5-baec-f225909b9787",
   "metadata": {},
   "source": [
    "This is a simple arithmetic expression to muliply then add intergers."
   ]
  },
  {
   "cell_type": "code",
   "execution_count": 17,
   "id": "19035d62-b77f-47a2-a109-a7c50da1070a",
   "metadata": {},
   "outputs": [
    {
     "data": {
      "text/plain": [
       "17"
      ]
     },
     "execution_count": 17,
     "metadata": {},
     "output_type": "execute_result"
    }
   ],
   "source": [
    "(3*4)+5"
   ]
  },
  {
   "cell_type": "markdown",
   "id": "7a0d8665-57d6-4bf0-95e4-7aef2050eb87",
   "metadata": {},
   "source": [
    "This will convert 200 minutes to hours by dividing by 60."
   ]
  },
  {
   "cell_type": "code",
   "execution_count": 22,
   "id": "d32fe10b-b976-4309-a217-eb00a04b17a0",
   "metadata": {},
   "outputs": [
    {
     "data": {
      "text/plain": [
       "3.3333333333333335"
      ]
     },
     "execution_count": 22,
     "metadata": {},
     "output_type": "execute_result"
    }
   ],
   "source": [
    "Hours = 60 \n",
    "Minutes = 200\n",
    "Minutes/Hours"
   ]
  },
  {
   "cell_type": "markdown",
   "id": "679b2a45-9436-41ab-ac96-21736d4e9a7c",
   "metadata": {},
   "source": [
    "**Objectives:**\n",
    "- Data science languages\n",
    "- Data science tools\n",
    "- Data science libraries"
   ]
  },
  {
   "cell_type": "code",
   "execution_count": null,
   "id": "f5733272-bb4f-4f45-99cc-b11bc02e01eb",
   "metadata": {},
   "outputs": [],
   "source": []
  }
 ],
 "metadata": {
  "kernelspec": {
   "display_name": "Python [conda env:base] *",
   "language": "python",
   "name": "conda-base-py"
  },
  "language_info": {
   "codemirror_mode": {
    "name": "ipython",
    "version": 3
   },
   "file_extension": ".py",
   "mimetype": "text/x-python",
   "name": "python",
   "nbconvert_exporter": "python",
   "pygments_lexer": "ipython3",
   "version": "3.12.7"
  }
 },
 "nbformat": 4,
 "nbformat_minor": 5
}
